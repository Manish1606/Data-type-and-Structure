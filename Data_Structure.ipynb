{
  "nbformat": 4,
  "nbformat_minor": 0,
  "metadata": {
    "colab": {
      "provenance": []
    },
    "kernelspec": {
      "name": "python3",
      "display_name": "Python 3"
    },
    "language_info": {
      "name": "python"
    }
  },
  "cells": [
    {
      "cell_type": "markdown",
      "source": [
        "Data Structure"
      ],
      "metadata": {
        "id": "JKm-gReWU9l5"
      }
    },
    {
      "cell_type": "markdown",
      "source": [
        "Q1. What are data structures, and why are they important?\n",
        "==> A data structure is a way to organize data so that it can be used by a      \n",
        "   computer program or other system. because Make code more efficient, Help solve  complex problems, Improve memory management and Help with algorithm design.\n",
        "\n",
        "Q2. Explain the difference between mutable and immutable data types with\n",
        "   examples.\n",
        "==> Mutable Data Type - A mutable data type is one whose values can be changed.\n",
        "   Example: List, Dictionaries, and Set.\n",
        "  \n",
        "   Immutable Data Type - An immutable data type is one in which the values can't be changed or altered.\n",
        "   Example: String and Tuples.\n",
        "\n",
        "Q3. What are the main differences between lists and tuples in Python?\n",
        "==> The main difference between lists and tuples in Python is that lists are\n",
        "   mutable, meaning they can be modified after creation, while tuples are immutable and cannot be changed.\n",
        " * Tuples are immutable objects and lists are mutable objects.\n",
        " * Once defined, tuples have a fixed length and lists have a dynamic length.\n",
        " * Tuples use less memory and are faster to access than to lists.\n",
        " * Tuple syntax uses round brackets or parenthesis, and list syntax uses square\n",
        "   brackets.\n",
        "\n",
        "Q4. Describe how dictionaries store data.\n",
        "==> Dictionary is a data structure that stores the value in key: value pairs.\n",
        "   Values in a dictionary can be of any data type and can be duplicated, whereas keys can't be repeated and must be immutable.\n",
        "\n",
        "   Example: Here, The data is stored in key:value pairs in dictionaries, which makes it easier to find values.\n",
        "   d = {1: 'Geeks', 2: 'For', 3: 'Geeks'}\n",
        "   print(d)\n",
        "\n",
        "Q5. Why might you use a set instead of a list in Python?\n",
        "==> Because sets cannot have multiple occurrences of the same element, it makes\n",
        "   sets highly useful to efficiently remove duplicate values from a list or tuple and to perform common math operations like unions and intersections.\n",
        "\n",
        "Q6. What is a string in Python, and how is it different from a list?\n",
        "==> In Python, strings are used for representing textual data. A string is a\n",
        "   sequence of characters enclosed in either single quotes ('') or double quotes (“”).\n",
        "   Strings are immutable, meaning they cannot be changed once created, while lists are mutable and can be modified as needed.\n",
        "\n",
        "Q7.How do tuples ensure data integrity in Python?\n",
        "==> Tuples are immutable to ensure that their contents remain constant\n",
        "   throughout their lifecycle, guaranteeing data integrity and reliability. This immutability allows tuples to be used as keys in dictionaries and elements in sets, as they can be hashed. Additionally, immutability can lead to performance optimizations, as Python can store and access tuples more efficiently than mutable data structures like lists.\n",
        "\n",
        "Q8. What is a hash table, and how does it relate to dictionaries in Python?\n",
        "==> A hash table is a data structure that stores key-value pairs.\n",
        "   In Python, the built-in dictionary data type is an implementation of a hash table. The keys of a Python dictionary are generated using a hashing function.\n",
        "\n",
        "Q9. Can lists contain different data types in Python?\n",
        "==> Yes, lists in Python can contain different data types,\n",
        "   including: Strings, Floats, Booleans, Integers, Functions, Other lists, and Dictionaries.\n",
        "   Lists are versatile and are defined by enclosing elements in square brackets ([]) and separating them with commas.\n",
        "\n",
        "Q10. Explain why strings are immutable in Python.\n",
        "==> In Python, strings are considered \"immutable\" which means that once a  string is created, its content cannot be directly changed; if you want to  \n",
        "   modify a string, you essentially create a new string with the desired changes instead of altering the original one.\n",
        "\n",
        "Q11. What advantages do dictionaries offer over lists for certain tasks?\n",
        "==> The dictionarys have two parts to every entry the key and the value and\n",
        "   these are stored as pairs. This can give you more flexibility when storing data. The primary advantage would be retrieving stored values as it is much simpler to search through a dictionary.\n",
        "\n",
        "Q12. Describe a scenario where using a tuple would be preferable over a list.\n",
        "==> Tuples cannot be changed after they are created, but lists can be modified.\n",
        "   Tuples use less memory than lists. They're also a bit fast, especially when you're just looking at the values. So, if you have data that you don't want to change, it's better to use tuples instead of lists.\n",
        "\n",
        "Q13. How do sets handle duplicate values in Python?\n",
        "==> Items of a set in python are immutable (unchangeable), do not duplicate\n",
        "   values, and unordered. Thus, items in a set do not appear in a stipulated manner, i.e., they can appear in a different order every time it is used. Due to this, set items cannot be referred to by key or index.\n",
        "\n",
        "Q14. How does the “in” keyword work differently for lists and dictionaries?\n",
        "==>  \"In\" keyword is very useful to write conditional statements that will\n",
        "   execute a block of code only when a value or character is found in a list or string. but A list is an ordered collection of items, whereas a dictionary is an unordered data collection in a key: value pair.\n",
        "\n",
        "Q15. Can you modify the elements of a tuple? Explain why or why not.\n",
        "==> No, we cannot modify the elements of tuple in Python because tuples         are \"immutable,\" meaning once created, their elements cannot be changed, added,\n",
        "   or removed.\n",
        "\n",
        "Q16. What is a nested dictionary, and give an example of its use case?\n",
        "==> A nested dictionary is a dictionary that contains another dictionary.\n",
        "   Nesting is useful because it allows for more complex information to be modeled in programs. Here are some examples of use cases for nested dictionaries:\n",
        " *  Employee records: Organize employees by department, with each employee's\n",
        "   details in a nested dictionary.\n",
        " * Inventory systems: Track product categories, subcategories, and individual\n",
        "   product details.\n",
        " * JSON data: Nested dictionaries naturally map to the structure of JSON data,\n",
        "   making them essential for working with APIs and web services.\n",
        "\n",
        "Q17. Describe the time complexity of accessing elements in a dictionary.\n",
        "==> The time complexity of a dictionary is Similar to the insertion operation,\n",
        "   dictionary lookups in Python also have an average time complexity of O(1). This means that, on average, the time taken to retrieve an element from a dictionary is constant and does not depend on the size of the dictionary.\n",
        "\n",
        "Q18. In what situations are lists preferred over dictionaries?\n",
        "==> If we need an ordered collection, like a sequence of user actions, lists  \n",
        "   are your go-to. On the other hand, when we need quick look-ups, like mapping usernames to user data, dictionaries are invaluable.\n",
        "\n",
        "Q19. Why are dictionaries considered unordered, and how does that affect data\n",
        "   retrieval?\n",
        "==> A dictionary is termed an unordered collection of objects because\n",
        "   dictionaries do not maintain any inherent order of the items based on when they were added dictionaries did not preserve insertion order at all. This meant that when we accessed or printed the items, the order could vary, as dictionaries were optimized for fast lookups rather than maintaining order.\n",
        "   it lays the foundation for extracting and managing data across various sources.\n",
        "\n",
        "Q20. Explain the difference between a list and a dictionary in terms of data\n",
        "   retrieval.\n",
        "\n",
        "==> A list refers to a collection of various index value pairs like that in    the case of an array in C++. A dictionary refers to a hashed structure of various pairs of keys and values. Difference between a list and a dictionary in terms of data retrieval :-\n",
        "LIST-\n",
        " * We can create a list by placing all the available elements into a [ ] and separating them using “,” commas.\n",
        " * We can access the elements in a key using indices.\n",
        " * The entered order of elements is always maintained.\n",
        "\n",
        "A DICTIONARY-\n",
        " * A dictionary refers to a hashed structure of various pairs of keys and\n",
        "   values.\n",
        " * The keys present in a dictionary can easily be of any given data type.\n",
        " * We can access the elements present in a dictionary using the key-values.\n",
        " * We don't have any guarantee of maintaining the order of the available\n",
        "   elements."
      ],
      "metadata": {
        "id": "Dmetc_jVVaGa"
      }
    },
    {
      "cell_type": "code",
      "source": [
        "#1. Write a code to create a string with your name and print it.\n",
        "\n",
        "# Display your name\n",
        "str = 'Manish'\n",
        "for i in str:\n",
        "  print(i)"
      ],
      "metadata": {
        "colab": {
          "base_uri": "https://localhost:8080/"
        },
        "id": "ikmm6FHFDXAG",
        "outputId": "f6cbd32c-3c83-4c58-8f23-7dd407d45e30"
      },
      "execution_count": 2,
      "outputs": [
        {
          "output_type": "stream",
          "name": "stdout",
          "text": [
            "M\n",
            "a\n",
            "n\n",
            "i\n",
            "s\n",
            "h\n"
          ]
        }
      ]
    },
    {
      "cell_type": "code",
      "source": [
        "#2. Write a code to find the length of the string \"Hello World\".\n",
        "\n",
        "#length of string\n",
        "str = 'Hello World'\n",
        "print(len(str))\n"
      ],
      "metadata": {
        "colab": {
          "base_uri": "https://localhost:8080/"
        },
        "id": "jFZ_5cZiLA5h",
        "outputId": "0fe4f864-a62c-4556-b96c-334b39e80b5b"
      },
      "execution_count": 3,
      "outputs": [
        {
          "output_type": "stream",
          "name": "stdout",
          "text": [
            "11\n"
          ]
        }
      ]
    },
    {
      "cell_type": "code",
      "source": [
        "#3. Write a code to slice the first 3 characters from the string \"Python Programming\".\n",
        "\n",
        "my_string = \"Python Programming\"\n",
        "first_char = my_string[:3]\n",
        "print(first_char)"
      ],
      "metadata": {
        "colab": {
          "base_uri": "https://localhost:8080/"
        },
        "id": "kKWDRep5MVuF",
        "outputId": "8ef52c37-7545-46e3-ad3c-ea7b3a2ff0ec"
      },
      "execution_count": 4,
      "outputs": [
        {
          "output_type": "stream",
          "name": "stdout",
          "text": [
            "Pyt\n"
          ]
        }
      ]
    },
    {
      "cell_type": "code",
      "source": [
        "#4. Write a code to convert the string \"hello\" to uppercase.\n",
        "\n",
        "str = 'hello'\n",
        "print(str.upper())"
      ],
      "metadata": {
        "colab": {
          "base_uri": "https://localhost:8080/"
        },
        "id": "5T5j2SZLPiV8",
        "outputId": "13b153a4-e2fa-4085-efcc-74c7dc87836e"
      },
      "execution_count": 6,
      "outputs": [
        {
          "output_type": "stream",
          "name": "stdout",
          "text": [
            "HELLO\n"
          ]
        }
      ]
    },
    {
      "cell_type": "code",
      "source": [
        "#5. Write a code to replace the word \"apple\" with \"orange\" in the string \"I like apple\"\n",
        "\n",
        "str = 'I like apple'\n",
        "print(str.replace('apple','orange'))"
      ],
      "metadata": {
        "colab": {
          "base_uri": "https://localhost:8080/"
        },
        "id": "OiGfL3q9RBMN",
        "outputId": "b69f233a-334b-4249-f114-d42e8c564b01"
      },
      "execution_count": 7,
      "outputs": [
        {
          "output_type": "stream",
          "name": "stdout",
          "text": [
            "I like orange\n"
          ]
        }
      ]
    },
    {
      "cell_type": "code",
      "source": [
        "#6. Write a code to create a list with numbers 1 to 5 and print it.\n",
        "\n",
        "List = [1,2,3,4,5]\n",
        "print(List)"
      ],
      "metadata": {
        "colab": {
          "base_uri": "https://localhost:8080/"
        },
        "id": "N0v3I-57RdaV",
        "outputId": "9b6f1993-20ea-4fa3-8eb6-bf29d809cef7"
      },
      "execution_count": 9,
      "outputs": [
        {
          "output_type": "stream",
          "name": "stdout",
          "text": [
            "[1, 2, 3, 4, 5]\n"
          ]
        }
      ]
    },
    {
      "cell_type": "code",
      "source": [
        "#7. Write a code to append the number 10 to the list [1, 2, 3, 4].\n",
        "\n",
        "List= [1,2,3,4]\n",
        "List.append(10)\n",
        "print(List)"
      ],
      "metadata": {
        "colab": {
          "base_uri": "https://localhost:8080/"
        },
        "id": "LJ0RSK8mRvbI",
        "outputId": "ea1c945a-20e1-4945-eba3-af2ac9b21ee7"
      },
      "execution_count": 10,
      "outputs": [
        {
          "output_type": "stream",
          "name": "stdout",
          "text": [
            "[1, 2, 3, 4, 10]\n"
          ]
        }
      ]
    },
    {
      "cell_type": "code",
      "source": [
        "#8. Write a code to remove the number 3 from the list [1, 2, 3, 4, 5].\n",
        "\n",
        "List = [1,2,3,4,5]\n",
        "List.remove(3)\n",
        "print(List)"
      ],
      "metadata": {
        "colab": {
          "base_uri": "https://localhost:8080/"
        },
        "id": "obCyoN3FSGaZ",
        "outputId": "903c9cdb-6ada-469a-c026-5341e3ac176d"
      },
      "execution_count": 11,
      "outputs": [
        {
          "output_type": "stream",
          "name": "stdout",
          "text": [
            "[1, 2, 4, 5]\n"
          ]
        }
      ]
    },
    {
      "cell_type": "code",
      "source": [
        "#9. Write a code to access the second element in the list ['a', 'b', 'c', 'd'].\n",
        "\n",
        "List = ['a','b','c','d']\n",
        "print(List[1])"
      ],
      "metadata": {
        "colab": {
          "base_uri": "https://localhost:8080/"
        },
        "id": "VOS7iBRUSXej",
        "outputId": "72557508-65d7-4585-822d-083fbd1c5636"
      },
      "execution_count": 21,
      "outputs": [
        {
          "output_type": "stream",
          "name": "stdout",
          "text": [
            "b\n"
          ]
        }
      ]
    },
    {
      "cell_type": "code",
      "source": [
        "#10. Write a code to reverse the list [10, 20, 30, 40, 50].\n",
        "\n",
        "List = [10, 20, 30, 40, 50]\n",
        "List.reverse()\n",
        "print(List)"
      ],
      "metadata": {
        "colab": {
          "base_uri": "https://localhost:8080/"
        },
        "id": "XaIo8vE3Ur7a",
        "outputId": "d4671361-964a-440b-b526-33e4bdf39b61"
      },
      "execution_count": 22,
      "outputs": [
        {
          "output_type": "stream",
          "name": "stdout",
          "text": [
            "[50, 40, 30, 20, 10]\n"
          ]
        }
      ]
    }
  ]
}